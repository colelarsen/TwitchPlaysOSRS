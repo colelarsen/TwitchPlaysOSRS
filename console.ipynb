{
 "cells": [
  {
   "cell_type": "code",
   "execution_count": 3,
   "metadata": {},
   "outputs": [
    {
     "ename": "ModuleNotFoundError",
     "evalue": "No module named 'imagesearch'",
     "output_type": "error",
     "traceback": [
      "\u001b[1;31m---------------------------------------------------------------------------\u001b[0m",
      "\u001b[1;31mModuleNotFoundError\u001b[0m                       Traceback (most recent call last)",
      "\u001b[1;32mc:\\Users\\jcmon\\Documents\\GitHub\\TwitchPlaysOSRS\\console.ipynb Cell 1'\u001b[0m in \u001b[0;36m<cell line: 1>\u001b[1;34m()\u001b[0m\n\u001b[1;32m----> <a href='vscode-notebook-cell:/c%3A/Users/jcmon/Documents/GitHub/TwitchPlaysOSRS/console.ipynb#ch0000000?line=0'>1</a>\u001b[0m \u001b[39mimport\u001b[39;00m \u001b[39msrc\u001b[39;00m\u001b[39m.\u001b[39;00m\u001b[39mosrsController\u001b[39;00m \u001b[39mas\u001b[39;00m \u001b[39mosrs\u001b[39;00m\n\u001b[0;32m      <a href='vscode-notebook-cell:/c%3A/Users/jcmon/Documents/GitHub/TwitchPlaysOSRS/console.ipynb#ch0000000?line=1'>2</a>\u001b[0m \u001b[39mimport\u001b[39;00m \u001b[39msrc\u001b[39;00m\u001b[39m.\u001b[39;00m\u001b[39mttvController\u001b[39;00m \u001b[39mas\u001b[39;00m \u001b[39mttv\u001b[39;00m\n\u001b[0;32m      <a href='vscode-notebook-cell:/c%3A/Users/jcmon/Documents/GitHub/TwitchPlaysOSRS/console.ipynb#ch0000000?line=2'>3</a>\u001b[0m \u001b[39mimport\u001b[39;00m \u001b[39msrc\u001b[39;00m\u001b[39m.\u001b[39;00m\u001b[39mcommandValidation\u001b[39;00m \u001b[39mas\u001b[39;00m  \u001b[39mvalid\u001b[39;00m\n",
      "File \u001b[1;32mc:\\Users\\jcmon\\Documents\\GitHub\\TwitchPlaysOSRS\\src\\osrsController.py:4\u001b[0m, in \u001b[0;36m<module>\u001b[1;34m\u001b[0m\n\u001b[0;32m      <a href='file:///c%3A/Users/jcmon/Documents/GitHub/TwitchPlaysOSRS/src/osrsController.py?line=1'>2</a>\u001b[0m \u001b[39mimport\u001b[39;00m \u001b[39msocket\u001b[39;00m\u001b[39m,\u001b[39m \u001b[39mtime\u001b[39;00m\n\u001b[0;32m      <a href='file:///c%3A/Users/jcmon/Documents/GitHub/TwitchPlaysOSRS/src/osrsController.py?line=2'>3</a>\u001b[0m \u001b[39mfrom\u001b[39;00m \u001b[39mtkinter\u001b[39;00m\u001b[39m.\u001b[39;00m\u001b[39mtix\u001b[39;00m \u001b[39mimport\u001b[39;00m MAX\n\u001b[1;32m----> <a href='file:///c%3A/Users/jcmon/Documents/GitHub/TwitchPlaysOSRS/src/osrsController.py?line=3'>4</a>\u001b[0m \u001b[39mfrom\u001b[39;00m \u001b[39mimagesearch\u001b[39;00m \u001b[39mimport\u001b[39;00m \u001b[39m*\u001b[39m\n\u001b[0;32m      <a href='file:///c%3A/Users/jcmon/Documents/GitHub/TwitchPlaysOSRS/src/osrsController.py?line=4'>5</a>\u001b[0m \u001b[39mimport\u001b[39;00m \u001b[39mpyautogui\u001b[39;00m\n\u001b[0;32m      <a href='file:///c%3A/Users/jcmon/Documents/GitHub/TwitchPlaysOSRS/src/osrsController.py?line=5'>6</a>\u001b[0m \u001b[39mimport\u001b[39;00m \u001b[39mre\u001b[39;00m\n",
      "\u001b[1;31mModuleNotFoundError\u001b[0m: No module named 'imagesearch'"
     ]
    }
   ],
   "source": [
    "import src.osrsController as osrs\n",
    "import src.ttvController as ttv\n",
    "import src.commandValidation as  valid\n",
    "import imagesearch\n",
    "\n",
    "controller = ttv.TtvController()"
   ]
  },
  {
   "cell_type": "code",
   "execution_count": null,
   "metadata": {},
   "outputs": [],
   "source": [
    "# [place][goal][location]\n",
    "#\n",
    "#   place:\n",
    "    #   like bank\n",
    "    #   or ge\n",
    "    #   \n",
    "    #   \n",
    "#   goal:\n",
    "    #   withdraw\n",
    "    #   set\n",
    "    #   dir\n",
    "    #   \n",
    "#   location:   \n",
    "    #   where on screen\n",
    "    #   grid\n",
    "    #   percents\n",
    "    #   look up in object\n",
    "    #   #   ([a-t] & [1-9]) [1-3] ? (' '+.*) ? \n",
    "\n",
    "# \n",
    "# \n",
    "# \n",
    "# \n",
    "#  "
   ]
  }
 ],
 "metadata": {
  "interpreter": {
   "hash": "f565989e0607e06a039380dfec4072a9c1ad0c28a0378c99d084e3cd6c9a6acc"
  },
  "kernelspec": {
   "display_name": "Python 3.9.7 ('base')",
   "language": "python",
   "name": "python3"
  },
  "language_info": {
   "codemirror_mode": {
    "name": "ipython",
    "version": 3
   },
   "file_extension": ".py",
   "mimetype": "text/x-python",
   "name": "python",
   "nbconvert_exporter": "python",
   "pygments_lexer": "ipython3",
   "version": "3.9.7"
  },
  "orig_nbformat": 4
 },
 "nbformat": 4,
 "nbformat_minor": 2
}
